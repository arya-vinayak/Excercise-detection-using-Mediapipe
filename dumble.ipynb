{
 "cells": [
  {
   "cell_type": "code",
   "execution_count": 1,
   "metadata": {},
   "outputs": [
    {
     "name": "stderr",
     "output_type": "stream",
     "text": [
      "objc[14635]: Class CaptureDelegate is implemented in both /opt/homebrew/Caskroom/miniforge/base/envs/opencv-env/lib/python3.8/site-packages/cv2/cv2.abi3.so (0x1685e2840) and /opt/homebrew/Caskroom/miniforge/base/envs/opencv-env/lib/python3.8/site-packages/mediapipe/.dylibs/libopencv_videoio.3.4.16.dylib (0x13cd9c860). One of the two will be used. Which one is undefined.\n",
      "objc[14635]: Class CVWindow is implemented in both /opt/homebrew/Caskroom/miniforge/base/envs/opencv-env/lib/python3.8/site-packages/cv2/cv2.abi3.so (0x1685e2890) and /opt/homebrew/Caskroom/miniforge/base/envs/opencv-env/lib/python3.8/site-packages/mediapipe/.dylibs/libopencv_highgui.3.4.16.dylib (0x11e9a4a68). One of the two will be used. Which one is undefined.\n",
      "objc[14635]: Class CVView is implemented in both /opt/homebrew/Caskroom/miniforge/base/envs/opencv-env/lib/python3.8/site-packages/cv2/cv2.abi3.so (0x1685e28b8) and /opt/homebrew/Caskroom/miniforge/base/envs/opencv-env/lib/python3.8/site-packages/mediapipe/.dylibs/libopencv_highgui.3.4.16.dylib (0x11e9a4a90). One of the two will be used. Which one is undefined.\n",
      "objc[14635]: Class CVSlider is implemented in both /opt/homebrew/Caskroom/miniforge/base/envs/opencv-env/lib/python3.8/site-packages/cv2/cv2.abi3.so (0x1685e28e0) and /opt/homebrew/Caskroom/miniforge/base/envs/opencv-env/lib/python3.8/site-packages/mediapipe/.dylibs/libopencv_highgui.3.4.16.dylib (0x11e9a4ab8). One of the two will be used. Which one is undefined.\n"
     ]
    }
   ],
   "source": [
    "import cv2\n",
    "import mediapipe as mp\n",
    "import numpy as np\n",
    "mp_drawing = mp.solutions.drawing_utils\n",
    "mp_pose = mp.solutions.pose"
   ]
  },
  {
   "attachments": {},
   "cell_type": "markdown",
   "metadata": {},
   "source": [
    "<h1 style = \"color : blue\">1)Drawing the landmarks onto opencv frames</h1>"
   ]
  },
  {
   "cell_type": "code",
   "execution_count": 2,
   "metadata": {},
   "outputs": [
    {
     "name": "stderr",
     "output_type": "stream",
     "text": [
      "INFO: Created TensorFlow Lite XNNPACK delegate for CPU.\n"
     ]
    },
    {
     "name": "stdout",
     "output_type": "stream",
     "text": [
      "1280.0 720.0\n"
     ]
    }
   ],
   "source": [
    "cap = cv2.VideoCapture(0)\n",
    "with mp_pose.Pose(min_detection_confidence  = 0.5,min_tracking_confidence=0.5) as pose:\n",
    "    while cap.isOpened():\n",
    "        ret,frame = cap.read()\n",
    "\n",
    "        #Recolouring the image\n",
    "        image = cv2.cvtColor(frame,cv2.COLOR_BGR2RGB)\n",
    "        image.flags.writeable = False\n",
    "\n",
    "        #Make detection\n",
    "        results = pose.process(image)\n",
    "\n",
    "        #Recolouring the image\n",
    "        image.flags.writeable = True\n",
    "        image = cv2.cvtColor(image,cv2.COLOR_RGB2BGR)\n",
    "\n",
    "        #Rendering the detections\n",
    "        mp_drawing.draw_landmarks(image,results.pose_landmarks,mp_pose.POSE_CONNECTIONS,mp_drawing.DrawingSpec(color=(245,117,66),thickness=2,circle_radius=2),mp_drawing.DrawingSpec(color=(245,66,230),thickness=2,circle_radius=2))\n",
    "\n",
    "        cv2.imshow('Mediapipe Feed',image)\n",
    "\n",
    "        if cv2.waitKey(10) & 0xFF == ord('q'):\n",
    "            width = cap.get(cv2.CAP_PROP_FRAME_WIDTH)\n",
    "            height = cap.get(cv2.CAP_PROP_FRAME_HEIGHT)\n",
    "            print(width, height)\n",
    "            break\n",
    "\n",
    "    cap.release()\n",
    "    cv2.destroyAllWindows()"
   ]
  },
  {
   "attachments": {},
   "cell_type": "markdown",
   "metadata": {},
   "source": [
    "<h1 style = \"color : blue\">Pose Landmark Model </h1>\n",
    "<h4>The landmark model in MediaPipe Pose predicts the location of 33 pose landmarks (see figure below).</h4>\n",
    "<img src = \"posemodel.png\"/>\n"
   ]
  },
  {
   "cell_type": "code",
   "execution_count": 6,
   "metadata": {},
   "outputs": [
    {
     "name": "stdout",
     "output_type": "stream",
     "text": [
      "landmark {\n",
      "  x: 0.6440275\n",
      "  y: 0.48378128\n",
      "  z: -0.9186791\n",
      "  visibility: 0.9997847\n",
      "}\n",
      "landmark {\n",
      "  x: 0.6645218\n",
      "  y: 0.38913155\n",
      "  z: -0.851653\n",
      "  visibility: 0.9994606\n",
      "}\n",
      "landmark {\n",
      "  x: 0.6782733\n",
      "  y: 0.3910603\n",
      "  z: -0.85150796\n",
      "  visibility: 0.99952894\n",
      "}\n",
      "landmark {\n",
      "  x: 0.6924621\n",
      "  y: 0.39310196\n",
      "  z: -0.8517405\n",
      "  visibility: 0.9994627\n",
      "}\n",
      "landmark {\n",
      "  x: 0.6098901\n",
      "  y: 0.38091096\n",
      "  z: -0.8651333\n",
      "  visibility: 0.9995045\n",
      "}\n",
      "landmark {\n",
      "  x: 0.5845946\n",
      "  y: 0.37844327\n",
      "  z: -0.8640612\n",
      "  visibility: 0.9995465\n",
      "}\n",
      "landmark {\n",
      "  x: 0.5589361\n",
      "  y: 0.37866634\n",
      "  z: -0.8643343\n",
      "  visibility: 0.9995154\n",
      "}\n",
      "landmark {\n",
      "  x: 0.69769824\n",
      "  y: 0.4383042\n",
      "  z: -0.4818945\n",
      "  visibility: 0.9994998\n",
      "}\n",
      "landmark {\n",
      "  x: 0.5028997\n",
      "  y: 0.42725706\n",
      "  z: -0.50067097\n",
      "  visibility: 0.99962074\n",
      "}\n",
      "landmark {\n",
      "  x: 0.66220886\n",
      "  y: 0.5927815\n",
      "  z: -0.7736564\n",
      "  visibility: 0.9997191\n",
      "}\n",
      "landmark {\n",
      "  x: 0.5945926\n",
      "  y: 0.5873199\n",
      "  z: -0.7609652\n",
      "  visibility: 0.9997213\n",
      "}\n",
      "landmark {\n",
      "  x: 0.8556489\n",
      "  y: 0.9677678\n",
      "  z: -0.32475802\n",
      "  visibility: 0.99625236\n",
      "}\n",
      "landmark {\n",
      "  x: 0.32097417\n",
      "  y: 0.96606284\n",
      "  z: -0.40230066\n",
      "  visibility: 0.99844825\n",
      "}\n",
      "landmark {\n",
      "  x: 0.99036217\n",
      "  y: 1.5123242\n",
      "  z: -0.42067415\n",
      "  visibility: 0.04112351\n",
      "}\n",
      "landmark {\n",
      "  x: 0.26652902\n",
      "  y: 1.6222172\n",
      "  z: -0.5026652\n",
      "  visibility: 0.0736566\n",
      "}\n",
      "landmark {\n",
      "  x: 0.94724834\n",
      "  y: 2.0127203\n",
      "  z: -0.73899966\n",
      "  visibility: 0.020258062\n",
      "}\n",
      "landmark {\n",
      "  x: 0.25880072\n",
      "  y: 2.1051767\n",
      "  z: -1.0603667\n",
      "  visibility: 0.04751583\n",
      "}\n",
      "landmark {\n",
      "  x: 0.9721878\n",
      "  y: 2.1759343\n",
      "  z: -0.87372464\n",
      "  visibility: 0.03524545\n",
      "}\n",
      "landmark {\n",
      "  x: 0.22727244\n",
      "  y: 2.274079\n",
      "  z: -1.2014782\n",
      "  visibility: 0.07019317\n",
      "}\n",
      "landmark {\n",
      "  x: 0.9056343\n",
      "  y: 2.1750562\n",
      "  z: -0.89475536\n",
      "  visibility: 0.061306268\n",
      "}\n",
      "landmark {\n",
      "  x: 0.27938685\n",
      "  y: 2.2677107\n",
      "  z: -1.282654\n",
      "  visibility: 0.11758877\n",
      "}\n",
      "landmark {\n",
      "  x: 0.8848386\n",
      "  y: 2.1102953\n",
      "  z: -0.7754107\n",
      "  visibility: 0.06857745\n",
      "}\n",
      "landmark {\n",
      "  x: 0.30634373\n",
      "  y: 2.200544\n",
      "  z: -1.1190484\n",
      "  visibility: 0.12241925\n",
      "}\n",
      "landmark {\n",
      "  x: 0.7771932\n",
      "  y: 2.0903177\n",
      "  z: -0.054827143\n",
      "  visibility: 0.00038500028\n",
      "}\n",
      "landmark {\n",
      "  x: 0.44113785\n",
      "  y: 2.1011684\n",
      "  z: 0.06079326\n",
      "  visibility: 0.00043351526\n",
      "}\n",
      "landmark {\n",
      "  x: 0.7946649\n",
      "  y: 3.0143695\n",
      "  z: 0.12801981\n",
      "  visibility: 0.0001509523\n",
      "}\n",
      "landmark {\n",
      "  x: 0.48472515\n",
      "  y: 3.0345073\n",
      "  z: 0.19739832\n",
      "  visibility: 5.2652817e-05\n",
      "}\n",
      "landmark {\n",
      "  x: 0.81396455\n",
      "  y: 3.823941\n",
      "  z: 0.86843014\n",
      "  visibility: 1.1401718e-05\n",
      "}\n",
      "landmark {\n",
      "  x: 0.5233127\n",
      "  y: 3.815995\n",
      "  z: 0.7716359\n",
      "  visibility: 9.0281816e-07\n",
      "}\n",
      "landmark {\n",
      "  x: 0.8228651\n",
      "  y: 3.9745703\n",
      "  z: 0.9102324\n",
      "  visibility: 1.2765507e-05\n",
      "}\n",
      "landmark {\n",
      "  x: 0.5217991\n",
      "  y: 3.963106\n",
      "  z: 0.81431085\n",
      "  visibility: 2.3678958e-06\n",
      "}\n",
      "landmark {\n",
      "  x: 0.78129005\n",
      "  y: 4.0904465\n",
      "  z: 0.3546619\n",
      "  visibility: 1.7948003e-05\n",
      "}\n",
      "landmark {\n",
      "  x: 0.57944584\n",
      "  y: 4.0727453\n",
      "  z: 0.1984081\n",
      "  visibility: 9.4150555e-06\n",
      "}\n",
      "\n"
     ]
    }
   ],
   "source": [
    "\n",
    "print(results.pose_landmarks)"
   ]
  },
  {
   "attachments": {},
   "cell_type": "markdown",
   "metadata": {},
   "source": [
    "<h1 style = \"color:red\">Extracting the different landmarks required for the bicep curl</h1>"
   ]
  },
  {
   "cell_type": "code",
   "execution_count": 13,
   "metadata": {},
   "outputs": [],
   "source": [
    "cap = cv2.VideoCapture(0)\n",
    "with mp_pose.Pose(min_detection_confidence  = 0.5,min_tracking_confidence=0.5) as pose:\n",
    "    while cap.isOpened():\n",
    "        ret,frame = cap.read()\n",
    "\n",
    "        #Recolouring the image\n",
    "        image = cv2.cvtColor(frame,cv2.COLOR_BGR2RGB)\n",
    "        image.flags.writeable = False\n",
    "\n",
    "        #Make detection\n",
    "        results = pose.process(image)\n",
    "\n",
    "        #Recolouring the image\n",
    "        image.flags.writeable = True\n",
    "        image = cv2.cvtColor(image,cv2.COLOR_RGB2BGR)\n",
    "\n",
    "        #Extracting the landmarks\n",
    "        try:\n",
    "            landmarks = results.pose_landmarks.landmark\n",
    "\n",
    "        except:\n",
    "            pass\n",
    "\n",
    "        #Rendering the detections\n",
    "        mp_drawing.draw_landmarks(image,results.pose_landmarks,mp_pose.POSE_CONNECTIONS,mp_drawing.DrawingSpec(color=(245,117,66),thickness=2,circle_radius=2),mp_drawing.DrawingSpec(color=(245,66,230),thickness=2,circle_radius=2))\n",
    "\n",
    "        cv2.imshow('Mediapipe Feed',image)\n",
    "\n",
    "        if cv2.waitKey(10) & 0xFF == ord('q'):\n",
    "            break\n",
    "\n",
    "    cap.release()\n",
    "    cv2.destroyAllWindows()"
   ]
  },
  {
   "cell_type": "code",
   "execution_count": 16,
   "metadata": {},
   "outputs": [
    {
     "data": {
      "text/plain": [
       "33"
      ]
     },
     "execution_count": 16,
     "metadata": {},
     "output_type": "execute_result"
    }
   ],
   "source": [
    "len(landmarks)"
   ]
  },
  {
   "cell_type": "code",
   "execution_count": 15,
   "metadata": {},
   "outputs": [
    {
     "name": "stdout",
     "output_type": "stream",
     "text": [
      "PoseLandmark.NOSE\n",
      "PoseLandmark.LEFT_EYE_INNER\n",
      "PoseLandmark.LEFT_EYE\n",
      "PoseLandmark.LEFT_EYE_OUTER\n",
      "PoseLandmark.RIGHT_EYE_INNER\n",
      "PoseLandmark.RIGHT_EYE\n",
      "PoseLandmark.RIGHT_EYE_OUTER\n",
      "PoseLandmark.LEFT_EAR\n",
      "PoseLandmark.RIGHT_EAR\n",
      "PoseLandmark.MOUTH_LEFT\n",
      "PoseLandmark.MOUTH_RIGHT\n",
      "PoseLandmark.LEFT_SHOULDER\n",
      "PoseLandmark.RIGHT_SHOULDER\n",
      "PoseLandmark.LEFT_ELBOW\n",
      "PoseLandmark.RIGHT_ELBOW\n",
      "PoseLandmark.LEFT_WRIST\n",
      "PoseLandmark.RIGHT_WRIST\n",
      "PoseLandmark.LEFT_PINKY\n",
      "PoseLandmark.RIGHT_PINKY\n",
      "PoseLandmark.LEFT_INDEX\n",
      "PoseLandmark.RIGHT_INDEX\n",
      "PoseLandmark.LEFT_THUMB\n",
      "PoseLandmark.RIGHT_THUMB\n",
      "PoseLandmark.LEFT_HIP\n",
      "PoseLandmark.RIGHT_HIP\n",
      "PoseLandmark.LEFT_KNEE\n",
      "PoseLandmark.RIGHT_KNEE\n",
      "PoseLandmark.LEFT_ANKLE\n",
      "PoseLandmark.RIGHT_ANKLE\n",
      "PoseLandmark.LEFT_HEEL\n",
      "PoseLandmark.RIGHT_HEEL\n",
      "PoseLandmark.LEFT_FOOT_INDEX\n",
      "PoseLandmark.RIGHT_FOOT_INDEX\n"
     ]
    }
   ],
   "source": [
    "for landmark in mp_pose.PoseLandmark:\n",
    "    print(landmark)"
   ]
  },
  {
   "cell_type": "code",
   "execution_count": 17,
   "metadata": {},
   "outputs": [
    {
     "data": {
      "text/plain": [
       "x: 0.7024549\n",
       "y: 0.6227809\n",
       "z: -0.16095124\n",
       "visibility: 0.9994994"
      ]
     },
     "execution_count": 17,
     "metadata": {},
     "output_type": "execute_result"
    }
   ],
   "source": [
    "landmarks[mp_pose.PoseLandmark.LEFT_SHOULDER.value]"
   ]
  },
  {
   "cell_type": "code",
   "execution_count": 18,
   "metadata": {},
   "outputs": [
    {
     "data": {
      "text/plain": [
       "x: 0.79660165\n",
       "y: 0.97877765\n",
       "z: -0.117458686\n",
       "visibility: 0.59736985"
      ]
     },
     "execution_count": 18,
     "metadata": {},
     "output_type": "execute_result"
    }
   ],
   "source": [
    "landmarks[mp_pose.PoseLandmark.LEFT_ELBOW.value]"
   ]
  },
  {
   "cell_type": "code",
   "execution_count": 19,
   "metadata": {},
   "outputs": [
    {
     "data": {
      "text/plain": [
       "x: 0.92450655\n",
       "y: 1.3234638\n",
       "z: -0.325448\n",
       "visibility: 0.20786843"
      ]
     },
     "execution_count": 19,
     "metadata": {},
     "output_type": "execute_result"
    }
   ],
   "source": [
    "landmarks[mp_pose.PoseLandmark.LEFT_WRIST.value]"
   ]
  },
  {
   "attachments": {},
   "cell_type": "markdown",
   "metadata": {},
   "source": [
    "<h1 style = \"color:red\">Angle Calculation</h1>"
   ]
  },
  {
   "cell_type": "code",
   "execution_count": 2,
   "metadata": {},
   "outputs": [],
   "source": [
    "def calculate_angle(a,b,c):\n",
    "    a = np.array(a)#array consisting of the x and y coordinates of the first point\n",
    "    b = np.array(b)#array consisting of the x and y coordinates of the second point\n",
    "    c = np.array(c)#array consisting of the x and y coordinates of the third point\n",
    "\n",
    "    radians = np.arctan2(c[1]-b[1],c[0]-b[0]) - np.arctan2(a[1]-b[1],a[0]-b[0])\n",
    "    #arctan2 returns the angle in radians keeping b as the origin\n",
    "    angle = np.abs(radians*180.0/np.pi)\n",
    "\n",
    "    if angle > 180:\n",
    "        angle = 360 - angle\n",
    "\n",
    "    return angle\n"
   ]
  },
  {
   "cell_type": "code",
   "execution_count": 21,
   "metadata": {},
   "outputs": [
    {
     "name": "stdout",
     "output_type": "stream",
     "text": [
      "174.45458773501338\n"
     ]
    }
   ],
   "source": [
    "shoulder = [landmarks[mp_pose.PoseLandmark.LEFT_SHOULDER.value].x,landmarks[mp_pose.PoseLandmark.LEFT_SHOULDER.value].y]\n",
    "elbow = [landmarks[mp_pose.PoseLandmark.LEFT_ELBOW.value].x,landmarks[mp_pose.PoseLandmark.LEFT_ELBOW.value].y]\n",
    "wrist = [landmarks[mp_pose.PoseLandmark.LEFT_WRIST.value].x,landmarks[mp_pose.PoseLandmark.LEFT_WRIST.value].y]\n",
    "print(calculate_angle(shoulder,elbow,wrist))"
   ]
  },
  {
   "cell_type": "code",
   "execution_count": 4,
   "metadata": {},
   "outputs": [],
   "source": [
    "cap = cv2.VideoCapture(0)\n",
    "with mp_pose.Pose(min_detection_confidence  = 0.5,min_tracking_confidence=0.5) as pose:\n",
    "    while cap.isOpened():\n",
    "        ret,frame = cap.read()\n",
    "\n",
    "        #Recolouring the image\n",
    "        image = cv2.cvtColor(frame,cv2.COLOR_BGR2RGB)\n",
    "        image.flags.writeable = False\n",
    "\n",
    "        #Make detection\n",
    "        results = pose.process(image)\n",
    "\n",
    "        #Recolouring the image\n",
    "        image.flags.writeable = True\n",
    "        image = cv2.cvtColor(image,cv2.COLOR_RGB2BGR)\n",
    "\n",
    "        #Extracting the landmarks\n",
    "        try:\n",
    "            landmarks = results.pose_landmarks.landmark\n",
    "            #Extracting the coordinates\n",
    "            shoulder = [landmarks[mp_pose.PoseLandmark.LEFT_SHOULDER.value].x,landmarks[mp_pose.PoseLandmark.LEFT_SHOULDER.value].y]\n",
    "            elbow = [landmarks[mp_pose.PoseLandmark.LEFT_ELBOW.value].x,landmarks[mp_pose.PoseLandmark.LEFT_ELBOW.value].y]\n",
    "            wrist = [landmarks[mp_pose.PoseLandmark.LEFT_WRIST.value].x,landmarks[mp_pose.PoseLandmark.LEFT_WRIST.value].y]\n",
    "\n",
    "            #Calculating the angle\n",
    "            angle = calculate_angle(shoulder,elbow,wrist)\n",
    "\n",
    "            #Visualizing the angle\n",
    "            cv2.putText(image,str(angle),tuple(np.multiply(elbow,[1280,720]).astype(int)),cv2.FONT_HERSHEY_SIMPLEX,0.5,(255,255,255),2,cv2.LINE_AA)\n",
    "        except:\n",
    "            pass\n",
    "\n",
    "        #Rendering the detections\n",
    "        mp_drawing.draw_landmarks(image,results.pose_landmarks,mp_pose.POSE_CONNECTIONS,mp_drawing.DrawingSpec(color=(245,117,66),thickness=2,circle_radius=2),mp_drawing.DrawingSpec(color=(245,66,230),thickness=2,circle_radius=2))\n",
    "\n",
    "        cv2.imshow('Mediapipe Feed',image)\n",
    "\n",
    "        if cv2.waitKey(10) & 0xFF == ord('q'):\n",
    "            break\n",
    "\n",
    "    cap.release()\n",
    "    cv2.destroyAllWindows()"
   ]
  },
  {
   "attachments": {},
   "cell_type": "markdown",
   "metadata": {},
   "source": [
    "<h1 style = \"color:red\">Curl counter</h1>"
   ]
  },
  {
   "cell_type": "code",
   "execution_count": 3,
   "metadata": {},
   "outputs": [
    {
     "name": "stderr",
     "output_type": "stream",
     "text": [
      "INFO: Created TensorFlow Lite XNNPACK delegate for CPU.\n"
     ]
    }
   ],
   "source": [
    "\n",
    "\n",
    "count = 0\n",
    "stage = None\n",
    "cap = cv2.VideoCapture(0)\n",
    "with mp_pose.Pose(min_detection_confidence  = 0.5,min_tracking_confidence=0.5) as pose:\n",
    "    while cap.isOpened():\n",
    "        ret,frame = cap.read()\n",
    "\n",
    "        #Recolouring the image\n",
    "        image = cv2.cvtColor(frame,cv2.COLOR_BGR2RGB)\n",
    "        image.flags.writeable = False\n",
    "\n",
    "        #Make detection\n",
    "        results = pose.process(image)\n",
    "\n",
    "        #Recolouring the image\n",
    "        image.flags.writeable = True\n",
    "        image = cv2.cvtColor(image,cv2.COLOR_RGB2BGR)\n",
    "\n",
    "        #Extracting the landmarks\n",
    "        try:\n",
    "            landmarks = results.pose_landmarks.landmark\n",
    "            #Extracting the coordinates\n",
    "            shoulder = [landmarks[mp_pose.PoseLandmark.LEFT_SHOULDER.value].x,landmarks[mp_pose.PoseLandmark.LEFT_SHOULDER.value].y]\n",
    "            elbow = [landmarks[mp_pose.PoseLandmark.LEFT_ELBOW.value].x,landmarks[mp_pose.PoseLandmark.LEFT_ELBOW.value].y]\n",
    "            wrist = [landmarks[mp_pose.PoseLandmark.LEFT_WRIST.value].x,landmarks[mp_pose.PoseLandmark.LEFT_WRIST.value].y]\n",
    "\n",
    "            #Calculating the angle\n",
    "            angle = calculate_angle(shoulder,elbow,wrist)\n",
    "\n",
    "            #Visualizing the angle\n",
    "            cv2.putText(image,str(angle),tuple(np.multiply(elbow,[1280,720]).astype(int)),cv2.FONT_HERSHEY_SIMPLEX,0.5,(255,255,255),2,cv2.LINE_AA)\n",
    "\n",
    "\n",
    "            #Counting the reps\n",
    "            if angle > 160:\n",
    "                stage = \"down\"\n",
    "            if angle < 30 and stage == 'down':\n",
    "                stage = 'up'\n",
    "                count += 1\n",
    "                #print(count)\n",
    "        except:\n",
    "            pass\n",
    "\n",
    "\n",
    "        #Rendering the detections\n",
    "        #setting up the status box\n",
    "        cv2.rectangle(image,(0,0),(260,73),(245,117,16),-1)\n",
    "\n",
    "\n",
    "        #Displaying the rep count\n",
    "        cv2.putText(image,'REPS',(15,12),cv2.FONT_HERSHEY_SIMPLEX,0.5,(0,0,0),1,cv2.LINE_AA)\n",
    "        cv2.putText(image,str(count),(10,60),cv2.FONT_HERSHEY_SIMPLEX,2,(255,255,255),2,cv2.LINE_AA)\n",
    "\n",
    "\n",
    "        #Displaying the stage\n",
    "        cv2.putText(image,'STAGE',(100,12),cv2.FONT_HERSHEY_SIMPLEX,0.5,(0,0,0),1,cv2.LINE_AA)\n",
    "        cv2.putText(image,stage,(95,60),cv2.FONT_HERSHEY_SIMPLEX,2,(255,255,255),2,cv2.LINE_AA)\n",
    "\n",
    "        #Rendering the detections\n",
    "        mp_drawing.draw_landmarks(image,results.pose_landmarks,mp_pose.POSE_CONNECTIONS,mp_drawing.DrawingSpec(color=(245,117,66),thickness=2,circle_radius=2),mp_drawing.DrawingSpec(color=(245,66,230),thickness=2,circle_radius=2))\n",
    "\n",
    "        cv2.imshow('Mediapipe Feed',image)\n",
    "\n",
    "        if cv2.waitKey(10) & 0xFF == ord('q'):\n",
    "            break\n",
    "\n",
    "    cap.release()\n",
    "    cv2.destroyAllWindows()"
   ]
  },
  {
   "cell_type": "code",
   "execution_count": null,
   "metadata": {},
   "outputs": [],
   "source": []
  }
 ],
 "metadata": {
  "kernelspec": {
   "display_name": "opencv-env",
   "language": "python",
   "name": "python3"
  },
  "language_info": {
   "codemirror_mode": {
    "name": "ipython",
    "version": 3
   },
   "file_extension": ".py",
   "mimetype": "text/x-python",
   "name": "python",
   "nbconvert_exporter": "python",
   "pygments_lexer": "ipython3",
   "version": "3.8.6 | packaged by conda-forge | (default, Jan 25 2021, 22:55:00) \n[Clang 11.0.1 ]"
  },
  "orig_nbformat": 4,
  "vscode": {
   "interpreter": {
    "hash": "46aa852287dda5d5b17bf058999dc99df3802e2e95a09da940cdde38e107fd48"
   }
  }
 },
 "nbformat": 4,
 "nbformat_minor": 2
}
