{
 "cells": [
  {
   "cell_type": "code",
   "execution_count": 1,
   "metadata": {},
   "outputs": [
    {
     "name": "stderr",
     "output_type": "stream",
     "text": [
      "objc[14440]: Class CaptureDelegate is implemented in both /opt/homebrew/Caskroom/miniforge/base/envs/opencv-env/lib/python3.8/site-packages/cv2/cv2.abi3.so (0x1685e2840) and /opt/homebrew/Caskroom/miniforge/base/envs/opencv-env/lib/python3.8/site-packages/mediapipe/.dylibs/libopencv_videoio.3.4.16.dylib (0x117d18860). One of the two will be used. Which one is undefined.\n",
      "objc[14440]: Class CVWindow is implemented in both /opt/homebrew/Caskroom/miniforge/base/envs/opencv-env/lib/python3.8/site-packages/cv2/cv2.abi3.so (0x1685e2890) and /opt/homebrew/Caskroom/miniforge/base/envs/opencv-env/lib/python3.8/site-packages/mediapipe/.dylibs/libopencv_highgui.3.4.16.dylib (0x107fdca68). One of the two will be used. Which one is undefined.\n",
      "objc[14440]: Class CVView is implemented in both /opt/homebrew/Caskroom/miniforge/base/envs/opencv-env/lib/python3.8/site-packages/cv2/cv2.abi3.so (0x1685e28b8) and /opt/homebrew/Caskroom/miniforge/base/envs/opencv-env/lib/python3.8/site-packages/mediapipe/.dylibs/libopencv_highgui.3.4.16.dylib (0x107fdca90). One of the two will be used. Which one is undefined.\n",
      "objc[14440]: Class CVSlider is implemented in both /opt/homebrew/Caskroom/miniforge/base/envs/opencv-env/lib/python3.8/site-packages/cv2/cv2.abi3.so (0x1685e28e0) and /opt/homebrew/Caskroom/miniforge/base/envs/opencv-env/lib/python3.8/site-packages/mediapipe/.dylibs/libopencv_highgui.3.4.16.dylib (0x107fdcab8). One of the two will be used. Which one is undefined.\n"
     ]
    }
   ],
   "source": [
    "import cv2\n",
    "import mediapipe as mp\n",
    "import numpy as np\n",
    "mp_drawing = mp.solutions.drawing_utils\n",
    "mp_pose = mp.solutions.pose"
   ]
  },
  {
   "cell_type": "code",
   "execution_count": 2,
   "metadata": {},
   "outputs": [],
   "source": [
    "#Calculating the angle between two points\n",
    "def calculate_angle(a, b, c):\n",
    "    a = np.array(a) # First\n",
    "    b = np.array(b) # Mid\n",
    "    c = np.array(c) # End\n",
    "\n",
    "    radians = np.arctan2(c[1] - b[1], c[0] - b[0]) - np.arctan2(a[1] - b[1], a[0] - b[0])\n",
    "    angle = np.abs(radians*180.0/np.pi)\n",
    "\n",
    "    if angle > 180.0:\n",
    "        angle = 360-angle\n",
    "\n",
    "    return angle"
   ]
  },
  {
   "cell_type": "code",
   "execution_count": 5,
   "metadata": {},
   "outputs": [
    {
     "ename": "error",
     "evalue": "OpenCV(4.7.0) /Users/opencv-cn/GHA-OCV-3/_work/opencv-python/opencv-python/opencv/modules/imgproc/src/color.cpp:182: error: (-215:Assertion failed) !_src.empty() in function 'cvtColor'\n",
     "output_type": "error",
     "traceback": [
      "\u001b[0;31m---------------------------------------------------------------------------\u001b[0m",
      "\u001b[0;31merror\u001b[0m                                     Traceback (most recent call last)",
      "Cell \u001b[0;32mIn[5], line 9\u001b[0m\n\u001b[1;32m      6\u001b[0m ret,frame \u001b[39m=\u001b[39m cap\u001b[39m.\u001b[39mread()\n\u001b[1;32m      8\u001b[0m \u001b[39m#Recolouring the image\u001b[39;00m\n\u001b[0;32m----> 9\u001b[0m image \u001b[39m=\u001b[39m cv2\u001b[39m.\u001b[39;49mcvtColor(frame,cv2\u001b[39m.\u001b[39;49mCOLOR_BGR2RGB)\n\u001b[1;32m     10\u001b[0m image\u001b[39m.\u001b[39mflags\u001b[39m.\u001b[39mwriteable \u001b[39m=\u001b[39m \u001b[39mFalse\u001b[39;00m\n\u001b[1;32m     12\u001b[0m \u001b[39m#Make detection\u001b[39;00m\n",
      "\u001b[0;31merror\u001b[0m: OpenCV(4.7.0) /Users/opencv-cn/GHA-OCV-3/_work/opencv-python/opencv-python/opencv/modules/imgproc/src/color.cpp:182: error: (-215:Assertion failed) !_src.empty() in function 'cvtColor'\n"
     ]
    }
   ],
   "source": [
    "\n",
    "\n",
    "count = 0\n",
    "stage = None\n",
    "cap = cv2.VideoCapture('arya_jj.mp4')\n",
    "with mp_pose.Pose(min_detection_confidence  = 0.5,min_tracking_confidence=0.5) as pose:\n",
    "    while cap.isOpened():\n",
    "        ret,frame = cap.read()\n",
    "\n",
    "        #Recolouring the image\n",
    "        image = cv2.cvtColor(frame,cv2.COLOR_BGR2RGB)\n",
    "        image.flags.writeable = False\n",
    "\n",
    "        #Make detection\n",
    "        results = pose.process(image)\n",
    "\n",
    "        #Recolouring the image\n",
    "        image.flags.writeable = True\n",
    "        image = cv2.cvtColor(image,cv2.COLOR_RGB2BGR)\n",
    "\n",
    "        #Extracting the landmarks for jumping jack\n",
    "        try:\n",
    "            landmarks = results.pose_landmarks.landmark\n",
    "\n",
    "            #Getting coordinates\n",
    "            left_shoulder  = [landmarks[mp_pose.PoseLandmark.LEFT_SHOULDER.value].x,landmarks[mp_pose.PoseLandmark.LEFT_SHOULDER.value].y]\n",
    "            right_shoulder = [landmarks[mp_pose.PoseLandmark.RIGHT_SHOULDER.value].x,landmarks[mp_pose.PoseLandmark.RIGHT_SHOULDER.value].y]\n",
    "            left_elbow = [landmarks[mp_pose.PoseLandmark.LEFT_ELBOW.value].x,landmarks[mp_pose.PoseLandmark.LEFT_ELBOW.value].y]\n",
    "            right_elbow = [landmarks[mp_pose.PoseLandmark.RIGHT_ELBOW.value].x,landmarks[mp_pose.PoseLandmark.RIGHT_ELBOW.value].y]\n",
    "            left_wrist = [landmarks[mp_pose.PoseLandmark.LEFT_WRIST.value].x,landmarks[mp_pose.PoseLandmark.LEFT_WRIST.value].y]\n",
    "            right_wrist = [landmarks[mp_pose.PoseLandmark.RIGHT_WRIST.value].x,landmarks[mp_pose.PoseLandmark.RIGHT_WRIST.value].y]\n",
    "            left_hip = [landmarks[mp_pose.PoseLandmark.LEFT_HIP.value].x,landmarks[mp_pose.PoseLandmark.LEFT_HIP.value].y]\n",
    "            right_hip = [landmarks[mp_pose.PoseLandmark.RIGHT_HIP.value].x,landmarks[mp_pose.PoseLandmark.RIGHT_HIP.value].y]\n",
    "            left_knee = [landmarks[mp_pose.PoseLandmark.LEFT_KNEE.value].x,landmarks[mp_pose.PoseLandmark.LEFT_KNEE.value].y]\n",
    "            right_knee = [landmarks[mp_pose.PoseLandmark.RIGHT_KNEE.value].x,landmarks[mp_pose.PoseLandmark.RIGHT_KNEE.value].y]\n",
    "            left_ankle = [landmarks[mp_pose.PoseLandmark.LEFT_ANKLE.value].x,landmarks[mp_pose.PoseLandmark.LEFT_ANKLE.value].y]\n",
    "            right_ankle = [landmarks[mp_pose.PoseLandmark.RIGHT_ANKLE.value].x,landmarks[mp_pose.PoseLandmark.RIGHT_ANKLE.value].y]\n",
    "            \n",
    "\n",
    "            #Calculating the angle for jumping jack\n",
    "            left_hand_angle = calculate_angle(left_shoulder,left_elbow,left_wrist)\n",
    "            right_hand_angle = calculate_angle(right_shoulder,right_elbow,right_wrist)\n",
    "            left_leg_angle = calculate_angle(left_hip,left_knee,left_ankle)\n",
    "            right_leg_angle = calculate_angle(right_hip,right_knee,right_ankle)\n",
    "            left_shoulder_angle = calculate_angle(left_hip,left_shoulder,left_elbow)\n",
    "            right_shoulder_angle = calculate_angle(right_hip,right_shoulder,right_elbow)\n",
    "            left_hip_angle = calculate_angle(left_knee,left_hip,left_shoulder)\n",
    "            right_hip_angle = calculate_angle(right_knee,right_hip,right_shoulder)\n",
    "\n",
    "            \n",
    "            \n",
    "\n",
    "            #Visualizing the angle\n",
    "            #352,640 for 1080p\n",
    "            #1280,720 for 720p\n",
    "            \n",
    "            cv2.putText(image,str(int(left_hand_angle)),tuple(np.multiply(left_elbow,[1280,720]).astype(int)),cv2.FONT_HERSHEY_SIMPLEX,0.5,(255,255,255),2,cv2.LINE_AA)\n",
    "            cv2.putText(image,str(int(right_hand_angle)),tuple(np.multiply(right_elbow,[1280,720]).astype(int)),cv2.FONT_HERSHEY_SIMPLEX,0.5,(255,255,255),2,cv2.LINE_AA)\n",
    "            cv2.putText(image,str(int(left_leg_angle)),tuple(np.multiply(left_knee,[1280,720]).astype(int)),cv2.FONT_HERSHEY_SIMPLEX,0.5,(255,255,255),2,cv2.LINE_AA)\n",
    "            cv2.putText(image,str(int(right_leg_angle)),tuple(np.multiply(right_knee,[1280,720]).astype(int)),cv2.FONT_HERSHEY_SIMPLEX,0.5,(255,255,255),2,cv2.LINE_AA)\n",
    "            cv2.putText(image,str(int(left_shoulder_angle)),tuple(np.multiply(left_shoulder,[1280,720]).astype(int)),cv2.FONT_HERSHEY_SIMPLEX,0.5,(255,255,255),2,cv2.LINE_AA)\n",
    "            cv2.putText(image,str(int(right_shoulder_angle)),tuple(np.multiply(right_shoulder,[1280,720]).astype(int)),cv2.FONT_HERSHEY_SIMPLEX,0.5,(255,255,255),2,cv2.LINE_AA)\n",
    "            cv2.putText(image,str(int(left_hip_angle)),tuple(np.multiply(left_hip,[1280,720]).astype(int)),cv2.FONT_HERSHEY_SIMPLEX,0.5,(255,255,255),2,cv2.LINE_AA)\n",
    "            cv2.putText(image,str(int(right_hip_angle)),tuple(np.multiply(right_hip,[1280,720]).astype(int)),cv2.FONT_HERSHEY_SIMPLEX,0.5,(255,255,255),2,cv2.LINE_AA)\n",
    "\n",
    "            #Condition for rep counting for jumping jack\n",
    "            if left_hand_angle > 150 and right_hand_angle > 150 and left_leg_angle > 150 and right_leg_angle > 150 and left_shoulder_angle < 90 and right_shoulder_angle < 90 and left_hip_angle > 165 and right_hip_angle > 165:\n",
    "                stage = \"down\"\n",
    "                #cv2.rectangle(image,(0,0),(640,352),(0,255,0),-1)\n",
    "            if stage == \"down\" and left_hand_angle > 150 and right_hand_angle > 150 and left_leg_angle > 150 and right_leg_angle > 150 and left_shoulder_angle > 90 and right_shoulder_angle > 90 and left_hip_angle < 165 and right_hip_angle < 165:\n",
    "                stage = \"up\"\n",
    "                count += 1\n",
    "                #cv2.rectangle(image,(0,0),(640,352),(0,0,255),-1)            \n",
    "            \n",
    "        except:\n",
    "            pass\n",
    "\n",
    "\n",
    "        #Rendering the detections\n",
    "        #setting up the status box\n",
    "        cv2.rectangle(image,(0,0),(260,73),(245,117,16),-1)\n",
    "\n",
    "\n",
    "        #Displaying the rep count\n",
    "        cv2.putText(image,'REPS',(15,12),cv2.FONT_HERSHEY_SIMPLEX,0.5,(0,0,0),1,cv2.LINE_AA)\n",
    "        cv2.putText(image,str(count),(10,60),cv2.FONT_HERSHEY_SIMPLEX,2,(255,255,255),2,cv2.LINE_AA)\n",
    "\n",
    "\n",
    "        #Displaying the stage\n",
    "        cv2.putText(image,'STAGE',(100,12),cv2.FONT_HERSHEY_SIMPLEX,0.5,(0,0,0),1,cv2.LINE_AA)\n",
    "        cv2.putText(image,stage,(95,60),cv2.FONT_HERSHEY_SIMPLEX,2,(255,255,255),2,cv2.LINE_AA)\n",
    "\n",
    "        #Rendering the detections\n",
    "        # mp_drawing.draw_landmarks(image,results.pose_landmarks,mp_pose.POSE_CONNECTIONS,mp_drawing.DrawingSpec(color=(245,117,66),thickness=2,circle_radius=2),mp_drawing.DrawingSpec(color=(245,66,230),thickness=2,circle_radius=2))\n",
    "        # frame_width = int(cap.get(3))\n",
    "        # frame_height = int(cap.get(4))\n",
    "        # size = (frame_width, frame_height)\n",
    "        # record = cv2.VideoWriter('expected.mp4', cv2.VideoWriter_fourcc(*'MJPG'), 10, size)\n",
    "\n",
    "        mp_drawing.draw_landmarks(image,results.pose_landmarks,mp_pose.POSE_CONNECTIONS,mp_drawing.DrawingSpec(color=(245,117,66),thickness=2,circle_radius=2),mp_drawing.DrawingSpec(color=(245,66,230),thickness=2,circle_radius=2))\n",
    "\n",
    "        cv2.imshow('Mediapipe Feed',image)\n",
    "        \n",
    "\n",
    "        if cv2.waitKey(10) & 0xFF == ord('q'):\n",
    "            break\n",
    "\n",
    "    cap.release()\n",
    "    cv2.destroyAllWindows()"
   ]
  },
  {
   "cell_type": "code",
   "execution_count": null,
   "metadata": {},
   "outputs": [],
   "source": []
  },
  {
   "cell_type": "code",
   "execution_count": null,
   "metadata": {},
   "outputs": [],
   "source": []
  }
 ],
 "metadata": {
  "kernelspec": {
   "display_name": "opencv-env",
   "language": "python",
   "name": "python3"
  },
  "language_info": {
   "codemirror_mode": {
    "name": "ipython",
    "version": 3
   },
   "file_extension": ".py",
   "mimetype": "text/x-python",
   "name": "python",
   "nbconvert_exporter": "python",
   "pygments_lexer": "ipython3",
   "version": "3.8.6"
  },
  "orig_nbformat": 4,
  "vscode": {
   "interpreter": {
    "hash": "46aa852287dda5d5b17bf058999dc99df3802e2e95a09da940cdde38e107fd48"
   }
  }
 },
 "nbformat": 4,
 "nbformat_minor": 2
}
